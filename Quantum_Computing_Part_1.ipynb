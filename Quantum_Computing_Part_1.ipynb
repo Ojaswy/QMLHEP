{
 "cells": [
  {
   "cell_type": "code",
   "execution_count": 1,
   "metadata": {},
   "outputs": [],
   "source": [
    "import cirq\n",
    "import math"
   ]
  },
  {
   "cell_type": "code",
   "execution_count": 2,
   "metadata": {},
   "outputs": [
    {
     "name": "stdout",
     "output_type": "stream",
     "text": [
      "(cirq.GridQubit(0, 1), cirq.GridQubit(1, 2), cirq.GridQubit(2, 3), cirq.GridQubit(3, 4), cirq.GridQubit(4, 5))\n"
     ]
    }
   ],
   "source": [
    "#Initialising 5 Grid Qubits\n",
    "(q0, q1, q2, q3, q4) = [cirq.GridQubit(i,i+1) for i in range(5)]\n",
    "qubits = (q0, q1, q2, q3, q4)\n",
    "print(qubits)"
   ]
  },
  {
   "cell_type": "code",
   "execution_count": 3,
   "metadata": {},
   "outputs": [
    {
     "name": "stdout",
     "output_type": "stream",
     "text": [
      "                                             ┌─────────┐\n",
      "(0, 1): ───H───@──────────────────────────────×───────────────────────\n",
      "               │                              │\n",
      "(1, 2): ───H───X───@───Rx(0.5π)───────────────┼───────────────────────\n",
      "                   │                          │\n",
      "(2, 3): ───H───────X───@──────────Rx(0.5π)────┼───────────────────────\n",
      "                       │                      │\n",
      "(3, 4): ───H───────────X──────────@───────────┼Rx(0.5π)───────────────\n",
      "                                  │           │\n",
      "(4, 5): ───H──────────────────────X───────────×────────────Rx(0.5π)───\n",
      "                                             └─────────┘\n"
     ]
    }
   ],
   "source": [
    "#Creating an object with name 'circuit'\n",
    "circuit = cirq.Circuit()\n",
    "\n",
    "#Adding various functions to the Qubits in the Circuit\n",
    "#Hadamard Gate\n",
    "circuit.append(cirq.H(q)  for q in qubits)\n",
    "\n",
    "#Controlled NOT Gate\n",
    "circuit.append([cirq.CNOT(q0,q1), cirq.CNOT(q1,q2), cirq.CNOT(q2,q3), cirq.CNOT(q3,q4)])\n",
    "\n",
    "#Swapping\n",
    "circuit.append(cirq.SWAP(q0,q4))\n",
    "\n",
    "#Rotation\n",
    "qbits = (q1, q2, q3, q4)\n",
    "circuit.append(cirq.rx(math.pi/2).on(q) for q in qbits)\n",
    "\n",
    "#Printing the Cicruit\n",
    "print(circuit)"
   ]
  }
 ],
 "metadata": {
  "kernelspec": {
   "display_name": "Python 3",
   "language": "python",
   "name": "python3"
  },
  "language_info": {
   "codemirror_mode": {
    "name": "ipython",
    "version": 3
   },
   "file_extension": ".py",
   "mimetype": "text/x-python",
   "name": "python",
   "nbconvert_exporter": "python",
   "pygments_lexer": "ipython3",
   "version": "3.6.9"
  }
 },
 "nbformat": 4,
 "nbformat_minor": 4
}
