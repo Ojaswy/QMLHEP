{
 "cells": [
  {
   "cell_type": "code",
   "execution_count": 1,
   "metadata": {},
   "outputs": [],
   "source": [
    "import cirq\n",
    "import math\n",
    "from cirq import Simulator\n",
    "from matplotlib import pyplot as plt"
   ]
  },
  {
   "cell_type": "code",
   "execution_count": 17,
   "metadata": {},
   "outputs": [],
   "source": [
    "# Initialising a One Dimensional Qubit\n",
    "qbitx = cirq.LineQubit(0)\n",
    "\n",
    "# Degree of Rotation in the X - Axis\n",
    "rotx_degree = cirq.rx((math.pi) / 1800)\n",
    "\n",
    "# Storing the Probabilities\n",
    "p = []\n",
    "\n",
    "# Each Degree incremented with 0.1 so that gives us 180*10 + 1 [0.0 angle]\n",
    "counter = 1801\n",
    "\n",
    "#Simulations\n",
    "sim = 1000"
   ]
  },
  {
   "cell_type": "code",
   "execution_count": null,
   "metadata": {},
   "outputs": [
    {
     "name": "stdout",
     "output_type": "stream",
     "text": [
      "Total rotation: 0.0 degrees \t Probability 1.0\n",
      "Total rotation: 5.0 degrees \t Probability 0.999\n",
      "Total rotation: 10.0 degrees \t Probability 0.988\n",
      "Total rotation: 15.0 degrees \t Probability 0.983\n",
      "Total rotation: 20.0 degrees \t Probability 0.964\n",
      "Total rotation: 25.0 degrees \t Probability 0.942\n",
      "Total rotation: 30.0 degrees \t Probability 0.936\n",
      "Total rotation: 35.0 degrees \t Probability 0.894\n",
      "Total rotation: 40.0 degrees \t Probability 0.886\n",
      "Total rotation: 45.0 degrees \t Probability 0.857\n",
      "Total rotation: 50.0 degrees \t Probability 0.81\n",
      "Total rotation: 55.0 degrees \t Probability 0.782\n",
      "Total rotation: 60.0 degrees \t Probability 0.744\n",
      "Total rotation: 65.0 degrees \t Probability 0.735\n",
      "Total rotation: 70.0 degrees \t Probability 0.663\n",
      "Total rotation: 75.0 degrees \t Probability 0.618\n",
      "Total rotation: 80.0 degrees \t Probability 0.572\n"
     ]
    }
   ],
   "source": [
    "for i in range(counter):\n",
    "\tcircuit = cirq.Circuit()\n",
    "\tfor _ in range(i):\n",
    "\t\tcircuit.append(rotx_degree(qbitx))\n",
    "\tcircuit.append(cirq.measure(qbitx))\n",
    "\tsimulator = Simulator()\n",
    "\tresult = simulator.run(circuit, repetitions=sim)\n",
    "\tprob = result.histogram(key='0')[0]/sim\n",
    "\tp.append(prob)\n",
    "\tif i%50 == 0:\n",
    "\t\tprint(f\"Total rotation: {i/10} degrees \\t Probability {prob}\")"
   ]
  },
  {
   "cell_type": "code",
   "execution_count": null,
   "metadata": {},
   "outputs": [],
   "source": [
    "fig = plt.figure(figsize=(20,10))\n",
    "fig.suptitle('Angle v Probability', fontsize=30)\n",
    "probability = fig.add_axes([0, 0, 1, 1])\n",
    "\n",
    "labels = [round(1.2*x) for x in range(0, counter, 100)]\n",
    "x_pos = [x for x in range(0,counter,100)]\n",
    "probability.plot(p)\n",
    "\n",
    "probability.set_xticks(x_pos)\n",
    "probability.set_xticklabels(labels)\n",
    "probability.set_xlabel('Angle (degrees)', fontsize=30)\n",
    "probability.set_ylabel('Probability', fontsize=30)\n",
    "plt.yticks(fontsize=20)\n",
    "plt.xticks(fontsize=20)\n",
    "plt.show()"
   ]
  },
  {
   "cell_type": "code",
   "execution_count": null,
   "metadata": {},
   "outputs": [],
   "source": []
  }
 ],
 "metadata": {
  "kernelspec": {
   "display_name": "Python 3",
   "language": "python",
   "name": "python3"
  },
  "language_info": {
   "codemirror_mode": {
    "name": "ipython",
    "version": 3
   },
   "file_extension": ".py",
   "mimetype": "text/x-python",
   "name": "python",
   "nbconvert_exporter": "python",
   "pygments_lexer": "ipython3",
   "version": "3.6.9"
  }
 },
 "nbformat": 4,
 "nbformat_minor": 4
}
